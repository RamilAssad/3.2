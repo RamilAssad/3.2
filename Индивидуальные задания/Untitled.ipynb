{
 "cells": [
  {
   "cell_type": "markdown",
   "id": "5c382968",
   "metadata": {},
   "source": [
    "Дана целочисленная прямоугольная матрица. Определить кол-во столбцов, не содержащих ни одного нулевого элемента (оформить в виде функции). - сделано\n",
    "Характеристикой строки целочисленной матрицы назовем сумму ее положительных четных элементов. Переставляя строки заданной матрицы, расположить их в соответствии с ростом характеристик (оформить в виде процедуры)."
   ]
  },
  {
   "cell_type": "code",
   "execution_count": 1,
   "id": "4c91ec98",
   "metadata": {},
   "outputs": [],
   "source": [
    "import numpy as np\n",
    "sz = (4, 5)\n",
    "ar = np.random.randint(-5, 10, size = sz)"
   ]
  },
  {
   "cell_type": "markdown",
   "id": "628fd1d7",
   "metadata": {},
   "source": [
    "Определить кол-во столбцов, не содержащих ни одного нулевого элемента"
   ]
  },
  {
   "cell_type": "code",
   "execution_count": 3,
   "id": "fe73f1b5",
   "metadata": {},
   "outputs": [
    {
     "name": "stdout",
     "output_type": "stream",
     "text": [
      "4\n"
     ]
    }
   ],
   "source": [
    "print(len(ar[np.where(ar.all(axis=1))]))"
   ]
  },
  {
   "cell_type": "markdown",
   "id": "95c4d24c",
   "metadata": {},
   "source": [
    "отдельный массив xar, в котором находятся характеристики каждой строки"
   ]
  },
  {
   "cell_type": "code",
   "execution_count": 5,
   "id": "1d4affef",
   "metadata": {},
   "outputs": [],
   "source": [
    "temp = np.where((ar > 0) & ~(ar % 2), 1, 0) * ar\n",
    "xar = temp.sum(axis=1)"
   ]
  },
  {
   "cell_type": "markdown",
   "id": "19c2b641",
   "metadata": {},
   "source": [
    "Переставляя строки заданной матрицы, расположить их в соответствии с ростом характеристик"
   ]
  },
  {
   "cell_type": "code",
   "execution_count": 6,
   "id": "1d427c53",
   "metadata": {},
   "outputs": [
    {
     "name": "stdout",
     "output_type": "stream",
     "text": [
      "[[ 5 -3 -4 -1  5]\n",
      " [ 1  3  7 -4  1]\n",
      " [ 3  5  7  7  2]\n",
      " [-1  3  7 -3  4]]\n"
     ]
    }
   ],
   "source": [
    "print(ar[xar.argsort()])\n"
   ]
  }
 ],
 "metadata": {
  "kernelspec": {
   "display_name": "Python 3 (ipykernel)",
   "language": "python",
   "name": "python3"
  },
  "language_info": {
   "codemirror_mode": {
    "name": "ipython",
    "version": 3
   },
   "file_extension": ".py",
   "mimetype": "text/x-python",
   "name": "python",
   "nbconvert_exporter": "python",
   "pygments_lexer": "ipython3",
   "version": "3.10.4"
  }
 },
 "nbformat": 4,
 "nbformat_minor": 5
}
